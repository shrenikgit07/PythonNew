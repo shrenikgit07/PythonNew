{
  "nbformat": 4,
  "nbformat_minor": 0,
  "metadata": {
    "colab": {
      "name": "Module3.ipynb",
      "provenance": [],
      "include_colab_link": true
    },
    "kernelspec": {
      "name": "python3",
      "display_name": "Python 3"
    },
    "language_info": {
      "name": "python"
    }
  },
  "cells": [
    {
      "cell_type": "markdown",
      "metadata": {
        "id": "view-in-github",
        "colab_type": "text"
      },
      "source": [
        "<a href=\"https://colab.research.google.com/github/shrenikgit07/PythonNew/blob/Module3/Module3.ipynb\" target=\"_parent\"><img src=\"https://colab.research.google.com/assets/colab-badge.svg\" alt=\"Open In Colab\"/></a>"
      ]
    },
    {
      "cell_type": "code",
      "source": [
        "#To open a text file as csv file, read csv file, display column names( first line) and other details (from second line to last line) \n",
        "with open('/content/sample_data/test.txt') as csv_file:\n",
        "    csv_reader = csv.reader(csv_file, delimiter=',')\n",
        "    line_count = 0\n",
        "    for row in csv_reader:\n",
        "        if line_count == 0:\n",
        "            print(f'Column names are {\", \".join(row)}')\n",
        "            line_count += 1\n",
        "        else:\n",
        "            print(f'\\t{row[0]} works in the {row[1]} department, and was born in {row[2]}.')\n",
        "            line_count += 1\n",
        "    print(f'Processed {line_count} lines.')"
      ],
      "metadata": {
        "colab": {
          "base_uri": "https://localhost:8080/",
          "height": 252
        },
        "id": "tEyFhnPRJ3ja",
        "outputId": "c52451b9-8541-454d-e719-5fdcbaf5be4d"
      },
      "execution_count": null,
      "outputs": [
        {
          "output_type": "error",
          "ename": "NameError",
          "evalue": "ignored",
          "traceback": [
            "\u001b[0;31m---------------------------------------------------------------------------\u001b[0m",
            "\u001b[0;31mNameError\u001b[0m                                 Traceback (most recent call last)",
            "\u001b[0;32m<ipython-input-1-31dcaa2a3280>\u001b[0m in \u001b[0;36m<module>\u001b[0;34m()\u001b[0m\n\u001b[1;32m      1\u001b[0m \u001b[0;31m#To open a text file as csv file, read csv file, display column names( first line) and other details (from second line to last line)\u001b[0m\u001b[0;34m\u001b[0m\u001b[0;34m\u001b[0m\u001b[0;34m\u001b[0m\u001b[0m\n\u001b[1;32m      2\u001b[0m \u001b[0;32mwith\u001b[0m \u001b[0mopen\u001b[0m\u001b[0;34m(\u001b[0m\u001b[0;34m'/content/sample_data/test.txt'\u001b[0m\u001b[0;34m)\u001b[0m \u001b[0;32mas\u001b[0m \u001b[0mcsv_file\u001b[0m\u001b[0;34m:\u001b[0m\u001b[0;34m\u001b[0m\u001b[0;34m\u001b[0m\u001b[0m\n\u001b[0;32m----> 3\u001b[0;31m     \u001b[0mcsv_reader\u001b[0m \u001b[0;34m=\u001b[0m \u001b[0mcsv\u001b[0m\u001b[0;34m.\u001b[0m\u001b[0mreader\u001b[0m\u001b[0;34m(\u001b[0m\u001b[0mcsv_file\u001b[0m\u001b[0;34m,\u001b[0m \u001b[0mdelimiter\u001b[0m\u001b[0;34m=\u001b[0m\u001b[0;34m','\u001b[0m\u001b[0;34m)\u001b[0m\u001b[0;34m\u001b[0m\u001b[0;34m\u001b[0m\u001b[0m\n\u001b[0m\u001b[1;32m      4\u001b[0m     \u001b[0mline_count\u001b[0m \u001b[0;34m=\u001b[0m \u001b[0;36m0\u001b[0m\u001b[0;34m\u001b[0m\u001b[0;34m\u001b[0m\u001b[0m\n\u001b[1;32m      5\u001b[0m     \u001b[0;32mfor\u001b[0m \u001b[0mrow\u001b[0m \u001b[0;32min\u001b[0m \u001b[0mcsv_reader\u001b[0m\u001b[0;34m:\u001b[0m\u001b[0;34m\u001b[0m\u001b[0;34m\u001b[0m\u001b[0m\n",
            "\u001b[0;31mNameError\u001b[0m: name 'csv' is not defined"
          ]
        }
      ]
    },
    {
      "cell_type": "code",
      "source": [
        "# Program to read entire text file\n",
        "with open('/content/sample_data/employee_birthday.txt') as f:\n",
        "  contents = f.read()              #Reads all the lines of the file as it is  \n",
        "  #contents = f.readline()         #Reads First line of the file\n",
        "  #contents = f.readlines()        #Reads all lines of the file as a single record\n",
        "  print(contents)"
      ],
      "metadata": {
        "colab": {
          "base_uri": "https://localhost:8080/"
        },
        "id": "s8H5rvbWKnBL",
        "outputId": "3388e356-cdbe-4258-b767-390fe9a183af"
      },
      "execution_count": null,
      "outputs": [
        {
          "output_type": "stream",
          "name": "stdout",
          "text": [
            "name,department,birthday month\n",
            "John Smith,Accounting,November\n",
            "Erica Meyers,IT,March\n"
          ]
        }
      ]
    },
    {
      "cell_type": "code",
      "source": [
        "#Program to read no of lines in the file\n",
        "with open('/content/sample_data/employee_birthday.txt') as f:\n",
        "  lines = f.readlines()\n",
        "  count=0\n",
        "  for line in lines:\n",
        "    count+=1\n",
        "    print(f'line {count}: {line}')\n",
        "  print(\"No. of lines in the file:\",count)"
      ],
      "metadata": {
        "colab": {
          "base_uri": "https://localhost:8080/"
        },
        "id": "p4ETL1toMjcS",
        "outputId": "cc48863c-fd7b-45d7-f479-d4c6467206e4"
      },
      "execution_count": null,
      "outputs": [
        {
          "output_type": "stream",
          "name": "stdout",
          "text": [
            "line 1: name,department,birthday month\n",
            "\n",
            "line 2: John Smith,Accounting,November\n",
            "\n",
            "line 3: Erica Meyers,IT,March\n",
            "No. of lines in the file: 3\n"
          ]
        }
      ]
    },
    {
      "cell_type": "code",
      "source": [
        "#Read first n lines of the file\n",
        "f= open('/content/sample_data/employee_birthday.txt', 'r')\n",
        "count= int(input('enter no of lines'))\n",
        "for i in range(count):\n",
        "  v=f.readline()\n",
        "  print(v)"
      ],
      "metadata": {
        "colab": {
          "base_uri": "https://localhost:8080/"
        },
        "id": "MFpnTKzwLGNJ",
        "outputId": "2da60f9b-06c9-4037-d57b-742b5e4a1aa6"
      },
      "execution_count": null,
      "outputs": [
        {
          "output_type": "stream",
          "name": "stdout",
          "text": [
            "enter no of lines2\n",
            "name,department,birthday month\n",
            "\n",
            "John Smith,Accounting,November\n",
            "\n"
          ]
        }
      ]
    },
    {
      "cell_type": "code",
      "source": [
        "#Write text to a file\n",
        "i=0\n",
        "f=open('/content/sample_data/employee1.txt','w')\n",
        "for i in range(100):\n",
        "  f.write(\"%d \\n\" % (i+1))\n",
        "f.close()\n",
        "\n",
        "lines=['Readme', 'This is first line in the file']\n",
        "f=open('/content/sample_data/employee.txt','w')\n",
        "for i in lines:\n",
        "  f.write(i)                        #writelines() : For a list of string elements, each string is inserted in the text file.Used to insert multiple strings at a single time.\n",
        "                                    #File_object.writelines(L) for L = [str1, str2, str3] \n",
        "  f.write(\"\\n\")\n",
        "f.close()"
      ],
      "metadata": {
        "id": "pQBx0OkHPjlQ"
      },
      "execution_count": null,
      "outputs": []
    },
    {
      "cell_type": "code",
      "source": [
        "#Append text to a file\n",
        "lines=['Readme', 'This is first line in the file']\n",
        "f=open('/content/sample_data/employee1.txt','a')\n",
        "for i in lines:\n",
        "  f.write(i)\n",
        "  \n",
        "f.close()"
      ],
      "metadata": {
        "id": "CzyD2KvAR3qJ"
      },
      "execution_count": null,
      "outputs": []
    },
    {
      "cell_type": "code",
      "source": [
        "#Read numbers from a file and write even and odd numbers to separate files\n",
        "f=open('/content/sample_data/employee1.txt', 'r')\n",
        "lines=f.readlines()\n",
        "for line in lines:\n",
        "  for x in line.split():        #this function split the line into strings\n",
        "    if (int(x) % 2)==0:\n",
        "      f1=open('/content/sample_data/even1.txt', 'a')\n",
        "      f1.writelines(x)\n",
        "      f1.write(\"\\n\")\n",
        "    else:\n",
        "      f2=open('/content/sample_data/odd1.txt', 'a')\n",
        "      f2.writelines(x)\n",
        "      f2.write(\"\\n\")\n"
      ],
      "metadata": {
        "id": "dPsqaJh_TFx6"
      },
      "execution_count": null,
      "outputs": []
    },
    {
      "cell_type": "code",
      "source": [
        "#Count characters,words, lines of a file\n",
        "with open('/content/sample_data/test.txt') as f:\n",
        "  lines = f.readlines()\n",
        "  count=0\n",
        "  for line in lines:\n",
        "    count+=1\n",
        "    #print(f'line {count}: {line}')\n",
        "  print(\"No. of lines in the file:\",count)\n",
        "  print(\"\\n\")\n",
        "  w=0\n",
        "  for line in lines:\n",
        "    for words in line.split(','):\n",
        "      w+=1\n",
        "      #print(f'words {w}: {words}')\n",
        "  print(\"No. of words in the file:\",w)\n",
        "  print(\"\\n\")\n",
        "  c=0\n",
        "  for line in lines:\n",
        "    for words in line.split(','):\n",
        "      for charas in words:\n",
        "        if charas.isalpha():\n",
        "          c+=1\n",
        "          #print(f'character {c}:{charas}')\n",
        "  print(\"No of Characters are:\",c)\n"
      ],
      "metadata": {
        "colab": {
          "base_uri": "https://localhost:8080/"
        },
        "id": "cVYUXmh0qRbA",
        "outputId": "59867c33-8635-4ec1-d302-ef06055256fa"
      },
      "execution_count": null,
      "outputs": [
        {
          "output_type": "stream",
          "name": "stdout",
          "text": [
            "No. of lines in the file: 8\n",
            "\n",
            "\n",
            "No. of words in the file: 14\n",
            "\n",
            "\n",
            "No of Characters are: 596\n"
          ]
        }
      ]
    },
    {
      "cell_type": "code",
      "source": [
        "#Write list to a file\n",
        "lines=['EMP ID: 101', 'Name: D Subhash','Ref:255','Salary:45000','D.O.B:8-4-1985']\n",
        "f=open('/content/sample_data/emp.txt','w')\n",
        "for i in lines:\n",
        "  f.write(i)                        #writelines() : For a list of string elements, each string is inserted in the text file.Used to insert multiple strings at a single time.\n",
        "                                    #File_object.writelines(L) for L = [str1, str2, str3] \n",
        "  f.write(\"\\n\")\n",
        "f.close()"
      ],
      "metadata": {
        "id": "gn0Y7yrjuFLn"
      },
      "execution_count": null,
      "outputs": []
    },
    {
      "cell_type": "code",
      "source": [
        "import pandas as pd"
      ],
      "metadata": {
        "id": "RVnmvDZIuk7d"
      },
      "execution_count": null,
      "outputs": []
    },
    {
      "cell_type": "code",
      "source": [
        "#To read a CSV file into dataframe and display it\n",
        "df=pd.read_csv('/content/sample_data/swe1.csv')\n",
        "print(df)"
      ],
      "metadata": {
        "colab": {
          "base_uri": "https://localhost:8080/"
        },
        "id": "RmXWo-3r8ZvB",
        "outputId": "dd9d80cd-76e2-4f4c-936b-bcdb5b9d4405"
      },
      "execution_count": null,
      "outputs": [
        {
          "output_type": "stream",
          "name": "stdout",
          "text": [
            "  Object  X  Y\n",
            "0      A  1  1\n",
            "1      B  2  1\n",
            "2      C  4  3\n",
            "3      D  5  4\n"
          ]
        }
      ]
    },
    {
      "cell_type": "code",
      "source": [
        "#To read a csv file to dataframe and get details of it\n",
        "df=pd.read_csv('/content/sample_data/titanic.csv')\n",
        "#df.info()       #provides technical summaryof entire dataset\n",
        "df.head()         #provides details of few rows of dataset"
      ],
      "metadata": {
        "id": "DK1_XmWX9dNv",
        "colab": {
          "base_uri": "https://localhost:8080/",
          "height": 565
        },
        "outputId": "ba3deb11-aaf7-4fd1-8c28-ed175462eb4d"
      },
      "execution_count": null,
      "outputs": [
        {
          "output_type": "execute_result",
          "data": {
            "text/plain": [
              "   PassengerId  Survived  Pclass  \\\n",
              "0            1         0       3   \n",
              "1            2         1       1   \n",
              "2            3         1       3   \n",
              "3            4         1       1   \n",
              "4            5         0       3   \n",
              "\n",
              "                                                Name     Sex   Age  SibSp  \\\n",
              "0                            Braund, Mr. Owen Harris    male  22.0      1   \n",
              "1  Cumings, Mrs. John Bradley (Florence Briggs Th...  female  38.0      1   \n",
              "2                             Heikkinen, Miss. Laina  female  26.0      0   \n",
              "3       Futrelle, Mrs. Jacques Heath (Lily May Peel)  female  35.0      1   \n",
              "4                           Allen, Mr. William Henry    male  35.0      0   \n",
              "\n",
              "   Parch            Ticket     Fare Cabin Embarked  Unnamed: 12  \n",
              "0      0         A/5 21171   7.2500   NaN        S          NaN  \n",
              "1      0          PC 17599  71.2833   C85        C          NaN  \n",
              "2      0  STON/O2. 3101282   7.9250   NaN        S          NaN  \n",
              "3      0            113803  53.1000  C123        S          NaN  \n",
              "4      0            373450   8.0500   NaN        S          NaN  "
            ],
            "text/html": [
              "\n",
              "  <div id=\"df-fa6e4bb0-9c23-43e1-91f9-4d9633a6c422\">\n",
              "    <div class=\"colab-df-container\">\n",
              "      <div>\n",
              "<style scoped>\n",
              "    .dataframe tbody tr th:only-of-type {\n",
              "        vertical-align: middle;\n",
              "    }\n",
              "\n",
              "    .dataframe tbody tr th {\n",
              "        vertical-align: top;\n",
              "    }\n",
              "\n",
              "    .dataframe thead th {\n",
              "        text-align: right;\n",
              "    }\n",
              "</style>\n",
              "<table border=\"1\" class=\"dataframe\">\n",
              "  <thead>\n",
              "    <tr style=\"text-align: right;\">\n",
              "      <th></th>\n",
              "      <th>PassengerId</th>\n",
              "      <th>Survived</th>\n",
              "      <th>Pclass</th>\n",
              "      <th>Name</th>\n",
              "      <th>Sex</th>\n",
              "      <th>Age</th>\n",
              "      <th>SibSp</th>\n",
              "      <th>Parch</th>\n",
              "      <th>Ticket</th>\n",
              "      <th>Fare</th>\n",
              "      <th>Cabin</th>\n",
              "      <th>Embarked</th>\n",
              "      <th>Unnamed: 12</th>\n",
              "    </tr>\n",
              "  </thead>\n",
              "  <tbody>\n",
              "    <tr>\n",
              "      <th>0</th>\n",
              "      <td>1</td>\n",
              "      <td>0</td>\n",
              "      <td>3</td>\n",
              "      <td>Braund, Mr. Owen Harris</td>\n",
              "      <td>male</td>\n",
              "      <td>22.0</td>\n",
              "      <td>1</td>\n",
              "      <td>0</td>\n",
              "      <td>A/5 21171</td>\n",
              "      <td>7.2500</td>\n",
              "      <td>NaN</td>\n",
              "      <td>S</td>\n",
              "      <td>NaN</td>\n",
              "    </tr>\n",
              "    <tr>\n",
              "      <th>1</th>\n",
              "      <td>2</td>\n",
              "      <td>1</td>\n",
              "      <td>1</td>\n",
              "      <td>Cumings, Mrs. John Bradley (Florence Briggs Th...</td>\n",
              "      <td>female</td>\n",
              "      <td>38.0</td>\n",
              "      <td>1</td>\n",
              "      <td>0</td>\n",
              "      <td>PC 17599</td>\n",
              "      <td>71.2833</td>\n",
              "      <td>C85</td>\n",
              "      <td>C</td>\n",
              "      <td>NaN</td>\n",
              "    </tr>\n",
              "    <tr>\n",
              "      <th>2</th>\n",
              "      <td>3</td>\n",
              "      <td>1</td>\n",
              "      <td>3</td>\n",
              "      <td>Heikkinen, Miss. Laina</td>\n",
              "      <td>female</td>\n",
              "      <td>26.0</td>\n",
              "      <td>0</td>\n",
              "      <td>0</td>\n",
              "      <td>STON/O2. 3101282</td>\n",
              "      <td>7.9250</td>\n",
              "      <td>NaN</td>\n",
              "      <td>S</td>\n",
              "      <td>NaN</td>\n",
              "    </tr>\n",
              "    <tr>\n",
              "      <th>3</th>\n",
              "      <td>4</td>\n",
              "      <td>1</td>\n",
              "      <td>1</td>\n",
              "      <td>Futrelle, Mrs. Jacques Heath (Lily May Peel)</td>\n",
              "      <td>female</td>\n",
              "      <td>35.0</td>\n",
              "      <td>1</td>\n",
              "      <td>0</td>\n",
              "      <td>113803</td>\n",
              "      <td>53.1000</td>\n",
              "      <td>C123</td>\n",
              "      <td>S</td>\n",
              "      <td>NaN</td>\n",
              "    </tr>\n",
              "    <tr>\n",
              "      <th>4</th>\n",
              "      <td>5</td>\n",
              "      <td>0</td>\n",
              "      <td>3</td>\n",
              "      <td>Allen, Mr. William Henry</td>\n",
              "      <td>male</td>\n",
              "      <td>35.0</td>\n",
              "      <td>0</td>\n",
              "      <td>0</td>\n",
              "      <td>373450</td>\n",
              "      <td>8.0500</td>\n",
              "      <td>NaN</td>\n",
              "      <td>S</td>\n",
              "      <td>NaN</td>\n",
              "    </tr>\n",
              "  </tbody>\n",
              "</table>\n",
              "</div>\n",
              "      <button class=\"colab-df-convert\" onclick=\"convertToInteractive('df-fa6e4bb0-9c23-43e1-91f9-4d9633a6c422')\"\n",
              "              title=\"Convert this dataframe to an interactive table.\"\n",
              "              style=\"display:none;\">\n",
              "        \n",
              "  <svg xmlns=\"http://www.w3.org/2000/svg\" height=\"24px\"viewBox=\"0 0 24 24\"\n",
              "       width=\"24px\">\n",
              "    <path d=\"M0 0h24v24H0V0z\" fill=\"none\"/>\n",
              "    <path d=\"M18.56 5.44l.94 2.06.94-2.06 2.06-.94-2.06-.94-.94-2.06-.94 2.06-2.06.94zm-11 1L8.5 8.5l.94-2.06 2.06-.94-2.06-.94L8.5 2.5l-.94 2.06-2.06.94zm10 10l.94 2.06.94-2.06 2.06-.94-2.06-.94-.94-2.06-.94 2.06-2.06.94z\"/><path d=\"M17.41 7.96l-1.37-1.37c-.4-.4-.92-.59-1.43-.59-.52 0-1.04.2-1.43.59L10.3 9.45l-7.72 7.72c-.78.78-.78 2.05 0 2.83L4 21.41c.39.39.9.59 1.41.59.51 0 1.02-.2 1.41-.59l7.78-7.78 2.81-2.81c.8-.78.8-2.07 0-2.86zM5.41 20L4 18.59l7.72-7.72 1.47 1.35L5.41 20z\"/>\n",
              "  </svg>\n",
              "      </button>\n",
              "      \n",
              "  <style>\n",
              "    .colab-df-container {\n",
              "      display:flex;\n",
              "      flex-wrap:wrap;\n",
              "      gap: 12px;\n",
              "    }\n",
              "\n",
              "    .colab-df-convert {\n",
              "      background-color: #E8F0FE;\n",
              "      border: none;\n",
              "      border-radius: 50%;\n",
              "      cursor: pointer;\n",
              "      display: none;\n",
              "      fill: #1967D2;\n",
              "      height: 32px;\n",
              "      padding: 0 0 0 0;\n",
              "      width: 32px;\n",
              "    }\n",
              "\n",
              "    .colab-df-convert:hover {\n",
              "      background-color: #E2EBFA;\n",
              "      box-shadow: 0px 1px 2px rgba(60, 64, 67, 0.3), 0px 1px 3px 1px rgba(60, 64, 67, 0.15);\n",
              "      fill: #174EA6;\n",
              "    }\n",
              "\n",
              "    [theme=dark] .colab-df-convert {\n",
              "      background-color: #3B4455;\n",
              "      fill: #D2E3FC;\n",
              "    }\n",
              "\n",
              "    [theme=dark] .colab-df-convert:hover {\n",
              "      background-color: #434B5C;\n",
              "      box-shadow: 0px 1px 3px 1px rgba(0, 0, 0, 0.15);\n",
              "      filter: drop-shadow(0px 1px 2px rgba(0, 0, 0, 0.3));\n",
              "      fill: #FFFFFF;\n",
              "    }\n",
              "  </style>\n",
              "\n",
              "      <script>\n",
              "        const buttonEl =\n",
              "          document.querySelector('#df-fa6e4bb0-9c23-43e1-91f9-4d9633a6c422 button.colab-df-convert');\n",
              "        buttonEl.style.display =\n",
              "          google.colab.kernel.accessAllowed ? 'block' : 'none';\n",
              "\n",
              "        async function convertToInteractive(key) {\n",
              "          const element = document.querySelector('#df-fa6e4bb0-9c23-43e1-91f9-4d9633a6c422');\n",
              "          const dataTable =\n",
              "            await google.colab.kernel.invokeFunction('convertToInteractive',\n",
              "                                                     [key], {});\n",
              "          if (!dataTable) return;\n",
              "\n",
              "          const docLinkHtml = 'Like what you see? Visit the ' +\n",
              "            '<a target=\"_blank\" href=https://colab.research.google.com/notebooks/data_table.ipynb>data table notebook</a>'\n",
              "            + ' to learn more about interactive tables.';\n",
              "          element.innerHTML = '';\n",
              "          dataTable['output_type'] = 'display_data';\n",
              "          await google.colab.output.renderOutput(dataTable, element);\n",
              "          const docLink = document.createElement('div');\n",
              "          docLink.innerHTML = docLinkHtml;\n",
              "          element.appendChild(docLink);\n",
              "        }\n",
              "      </script>\n",
              "    </div>\n",
              "  </div>\n",
              "  "
            ]
          },
          "metadata": {},
          "execution_count": 167
        }
      ]
    },
    {
      "cell_type": "code",
      "source": [
        "ages=df['Age']            #To select specific single column Age from the dataframe\n",
        "print(ages.head())        #Tp print values of the selected column      \n",
        "print(df['Age'].shape)    #To find total no of values in that column\n",
        "\n",
        "age_sex= df[['Age','Sex']]  #To selct multiple columns at atime\n",
        "print(age_sex.head())\n",
        "print(df[['Age','Sex']].shape)"
      ],
      "metadata": {
        "colab": {
          "base_uri": "https://localhost:8080/"
        },
        "id": "Gr0nSwreBq3n",
        "outputId": "d1d5f145-5957-4444-8b19-a5deda70c159"
      },
      "execution_count": null,
      "outputs": [
        {
          "output_type": "stream",
          "name": "stdout",
          "text": [
            "0    22.0\n",
            "1    38.0\n",
            "2    26.0\n",
            "3    35.0\n",
            "4    35.0\n",
            "Name: Age, dtype: float64\n",
            "(891,)\n",
            "    Age     Sex\n",
            "0  22.0    male\n",
            "1  38.0  female\n",
            "2  26.0  female\n",
            "3  35.0  female\n",
            "4  35.0    male\n",
            "(891, 2)\n"
          ]
        }
      ]
    },
    {
      "cell_type": "code",
      "source": [
        "#Given a datafram, select rows based on condition   passengers age above 35 and sex- female and class is 2 and 3\n",
        "ageabove35 = df[(df['Age']>35) & (df['Sex']=='female') & (df['Pclass'].isin([2,3])) ]\n",
        "print(ageabove35.head())\n",
        "print(ageabove35.shape)\n",
        "\n",
        "x=df[df['Age'].isnull()]              #To select the rows having Age as not a number NaN\n",
        "print(x.head())\n",
        "\n",
        "y=df[df['Age'].notna()]               #To selct the row age having a exsisting value or non missing value\n",
        "print(y.head())"
      ],
      "metadata": {
        "colab": {
          "base_uri": "https://localhost:8080/"
        },
        "id": "N33a-_iKDyZs",
        "outputId": "2c7cb744-eafa-457a-d30c-953e0d252454"
      },
      "execution_count": null,
      "outputs": [
        {
          "output_type": "stream",
          "name": "stdout",
          "text": [
            "     PassengerId  Survived  Pclass  \\\n",
            "15            16         1       2   \n",
            "25            26         1       3   \n",
            "40            41         0       3   \n",
            "132          133         0       3   \n",
            "161          162         1       2   \n",
            "\n",
            "                                                  Name     Sex   Age  SibSp  \\\n",
            "15                     Hewlett, Mrs. (Mary D Kingcome)  female  55.0      0   \n",
            "25   Asplund, Mrs. Carl Oscar (Selma Augusta Emilia...  female  38.0      1   \n",
            "40      Ahlin, Mrs. Johan (Johanna Persdotter Larsson)  female  40.0      1   \n",
            "132     Robins, Mrs. Alexander A (Grace Charity Laury)  female  47.0      1   \n",
            "161  Watt, Mrs. James (Elizabeth \"Bessie\" Inglis Mi...  female  40.0      0   \n",
            "\n",
            "     Parch      Ticket     Fare Cabin Embarked  Unnamed: 12  \n",
            "15       0      248706  16.0000   NaN        S          NaN  \n",
            "25       5      347077  31.3875   NaN        S          NaN  \n",
            "40       0        7546   9.4750   NaN        S          NaN  \n",
            "132      0   A/5. 3337  14.5000   NaN        S          NaN  \n",
            "161      0  C.A. 33595  15.7500   NaN        S          NaN  \n",
            "(35, 13)\n",
            "    PassengerId  Survived  Pclass                           Name     Sex  Age  \\\n",
            "5             6         0       3               Moran, Mr. James    male  NaN   \n",
            "17           18         1       2   Williams, Mr. Charles Eugene    male  NaN   \n",
            "19           20         1       3        Masselmani, Mrs. Fatima  female  NaN   \n",
            "26           27         0       3        Emir, Mr. Farred Chehab    male  NaN   \n",
            "28           29         1       3  O'Dwyer, Miss. Ellen \"Nellie\"  female  NaN   \n",
            "\n",
            "    SibSp  Parch  Ticket     Fare Cabin Embarked  Unnamed: 12  \n",
            "5       0      0  330877   8.4583   NaN        Q          NaN  \n",
            "17      0      0  244373  13.0000   NaN        S          NaN  \n",
            "19      0      0    2649   7.2250   NaN        C          NaN  \n",
            "26      0      0    2631   7.2250   NaN        C          NaN  \n",
            "28      0      0  330959   7.8792   NaN        Q          NaN  \n",
            "   PassengerId  Survived  Pclass  \\\n",
            "0            1         0       3   \n",
            "1            2         1       1   \n",
            "2            3         1       3   \n",
            "3            4         1       1   \n",
            "4            5         0       3   \n",
            "\n",
            "                                                Name     Sex   Age  SibSp  \\\n",
            "0                            Braund, Mr. Owen Harris    male  22.0      1   \n",
            "1  Cumings, Mrs. John Bradley (Florence Briggs Th...  female  38.0      1   \n",
            "2                             Heikkinen, Miss. Laina  female  26.0      0   \n",
            "3       Futrelle, Mrs. Jacques Heath (Lily May Peel)  female  35.0      1   \n",
            "4                           Allen, Mr. William Henry    male  35.0      0   \n",
            "\n",
            "   Parch            Ticket     Fare Cabin Embarked  Unnamed: 12  \n",
            "0      0         A/5 21171   7.2500   NaN        S          NaN  \n",
            "1      0          PC 17599  71.2833   C85        C          NaN  \n",
            "2      0  STON/O2. 3101282   7.9250   NaN        S          NaN  \n",
            "3      0            113803  53.1000  C123        S          NaN  \n",
            "4      0            373450   8.0500   NaN        S          NaN  \n"
          ]
        }
      ]
    },
    {
      "cell_type": "code",
      "source": [
        "#Given a dataframe showing the name,occupation,salary of people. Find the average salary per occupation\n",
        "df=pd.read_csv('/content/sample_data/Salaries.csv')\n",
        "#print(df)\n",
        "print(df.Occupation.unique())\n",
        "print(df[['Occupation','Salary']].groupby('Occupation').mean())"
      ],
      "metadata": {
        "id": "u0_5njgU9l7O",
        "colab": {
          "base_uri": "https://localhost:8080/"
        },
        "outputId": "404651ce-6f0a-471e-8c44-1cbab99e52e3"
      },
      "execution_count": null,
      "outputs": [
        {
          "output_type": "stream",
          "name": "stdout",
          "text": [
            "['GENERAL MANAGER' 'CAPTAIN III' 'BATTALION CHIEF' 'CHIEF OF POLICE'\n",
            " 'ANESTHETIST']\n",
            "                        Salary\n",
            "Occupation                    \n",
            "ANESTHETIST      240076.426000\n",
            "BATTALION CHIEF  259037.467727\n",
            "CAPTAIN III      314688.810000\n",
            "CHIEF OF POLICE  255325.119231\n",
            "GENERAL MANAGER  329719.874167\n"
          ]
        }
      ]
    },
    {
      "cell_type": "code",
      "source": [
        "#Convert python objects to JSON strings. Print all values\n",
        "import json\n",
        "python_dict =  {\"name\": \"David\", \"age\": 6, \"class\":\"I\"}\n",
        "python_list =  [\"Red\", \"Green\", \"Black\"]\n",
        "python_str =  \"Python Json\"\n",
        "python_int =  (1234)\n",
        "python_float =  (21.34)\n",
        "python_T =  (True)\n",
        "python_F =  (False)\n",
        "python_N =  (None)\n",
        "\n",
        "json_dict = json.dumps(python_dict)\n",
        "json_list = json.dumps(python_list)\n",
        "json_str = json.dumps(python_str)\n",
        "json_num1 = json.dumps(python_int)\n",
        "json_num2 = json.dumps(python_float)\n",
        "json_t = json.dumps(python_T)\n",
        "json_f = json.dumps(python_F)\n",
        "json_n = json.dumps(python_N)\n",
        "\n",
        "print(\"json dict : \", json_dict)\n",
        "print(\"jason list : \", json_list)\n",
        "print(\"json string : \", json_str)\n",
        "print(\"json number1 : \", json_num1)\n",
        "print(\"json number2 : \", json_num2)\n",
        "print(\"json true : \", json_t)\n",
        "print(\"json false : \", json_f)\n",
        "print(\"json null : \", json_n)"
      ],
      "metadata": {
        "id": "7w6xEc0d9z22",
        "colab": {
          "base_uri": "https://localhost:8080/"
        },
        "outputId": "e710b588-ec72-45e0-8d92-2b2ca1150e8d"
      },
      "execution_count": null,
      "outputs": [
        {
          "output_type": "stream",
          "name": "stdout",
          "text": [
            "json dict :  {\"name\": \"David\", \"age\": 6, \"class\": \"I\"}\n",
            "jason list :  [\"Red\", \"Green\", \"Black\"]\n",
            "json string :  \"Python Json\"\n",
            "json number1 :  1234\n",
            "json number2 :  21.34\n",
            "json true :  true\n",
            "json false :  false\n",
            "json null :  null\n"
          ]
        }
      ]
    },
    {
      "cell_type": "code",
      "source": [
        "#Write a pandas program to readspecific columns from a given excel file.\n",
        "df.to_excel('/content/sample_data/Salaries.xls',sheet_name='Sheet1',index=False)   \n",
        "#First read csv file into dataframe, convert to excel, select specific column\n",
        "print(df)\n",
        "df['Salary']"
      ],
      "metadata": {
        "id": "tguMxjFY96Eu",
        "colab": {
          "base_uri": "https://localhost:8080/"
        },
        "outputId": "17c6427d-f49d-4d6a-c04a-1e5aaa26a4ea"
      },
      "execution_count": null,
      "outputs": [
        {
          "output_type": "stream",
          "name": "stdout",
          "text": [
            "    Id          EmployeeName       Occupation     Salary\n",
            "0    1        NATHANIEL FORD  GENERAL MANAGER  567595.43\n",
            "1    2          GARY JIMENEZ      CAPTAIN III  538909.28\n",
            "2    3        ALBERT PARDINI      CAPTAIN III  335279.91\n",
            "3    4     CHRISTOPHER CHONG  GENERAL MANAGER  332343.61\n",
            "4    5       PATRICK GARDNER  GENERAL MANAGER  326373.19\n",
            "5    6        DAVID SULLIVAN  GENERAL MANAGER  316285.74\n",
            "6    7             ALSON LEE  GENERAL MANAGER  315981.05\n",
            "7    8         DAVID KUSHNER  GENERAL MANAGER  307899.46\n",
            "8    9        MICHAEL MORRIS  GENERAL MANAGER  303427.55\n",
            "9   10    JOANNE HAYES-WHITE  GENERAL MANAGER  302377.73\n",
            "10  11         ARTHUR KENNEY  GENERAL MANAGER  299494.17\n",
            "11  12      PATRICIA JACKSON  GENERAL MANAGER  297608.92\n",
            "12  13     EDWARD HARRINGTON  GENERAL MANAGER  294580.02\n",
            "13  14           JOHN MARTIN  GENERAL MANAGER  292671.62\n",
            "14  15        DAVID FRANKLIN  BATTALION CHIEF  286347.05\n",
            "15  16       RICHARD CORRIEA  BATTALION CHIEF  286213.86\n",
            "16  17              AMY HART  CHIEF OF POLICE  284720.43\n",
            "17  18        SEBASTIAN WONG  CHIEF OF POLICE  278569.21\n",
            "18  19            MARTY ROSS      CAPTAIN III  276434.22\n",
            "19  20         ELLEN MOFFATT      CAPTAIN III  274550.25\n",
            "20  21            VENUS AZAR      CAPTAIN III  274190.27\n",
            "21  22          JUDY MELINEK      CAPTAIN III  273771.21\n",
            "22  23         GEORGE GARCIA      CAPTAIN III  273702.71\n",
            "23  24         VICTOR WYRSCH      CAPTAIN III  270672.63\n",
            "24  25       JOSEPH DRISCOLL  CHIEF OF POLICE  270324.91\n",
            "25  26          GREGORY SUHR  CHIEF OF POLICE  267992.59\n",
            "26  27           JOHN HANLEY  BATTALION CHIEF  265784.56\n",
            "27  28        RAYMOND GUZMAN  BATTALION CHIEF  265463.46\n",
            "28  29        DENISE SCHMITT  BATTALION CHIEF  264074.60\n",
            "29  30         MONICA FIELDS  BATTALION CHIEF  261366.14\n",
            "30  31       HARLAN KELLY-JR  BATTALION CHIEF  260297.66\n",
            "31  32           DAVID SHINN  BATTALION CHIEF  259927.11\n",
            "32  33           GARY AMELIO  BATTALION CHIEF  259684.88\n",
            "33  34            JOHN TURSI  BATTALION CHIEF  258588.39\n",
            "34  35             JOSE VELO  BATTALION CHIEF  258364.22\n",
            "35  36            KHOA TRINH  BATTALION CHIEF  257540.09\n",
            "36  37          SUSAN CURRIN  BATTALION CHIEF  257124.44\n",
            "37  38           JAMES BOSCH  BATTALION CHIEF  253269.44\n",
            "38  39            JONES WONG  BATTALION CHIEF  251935.01\n",
            "39  40          BRENDAN WARD  BATTALION CHIEF  251685.16\n",
            "40  41      MICHAEL THOMPSON  BATTALION CHIEF  250595.39\n",
            "41  42         THOMAS ABBOTT  BATTALION CHIEF  250408.49\n",
            "42  43       THOMAS SIRAGUSA  BATTALION CHIEF  250339.35\n",
            "43  44      MICHAEL THOMPSON  BATTALION CHIEF  250317.93\n",
            "44  45  SHARON MCCOLE WICHER  BATTALION CHIEF  250122.04\n",
            "45  46             EDWIN LEE  BATTALION CHIEF  249375.02\n",
            "46  47      BRYAN RUBENSTEIN  CHIEF OF POLICE  249293.30\n",
            "47  48          TRENT RHORER  CHIEF OF POLICE  248895.77\n",
            "48  49          JAMES DUDLEY  CHIEF OF POLICE  248718.64\n",
            "49  50               KEN YEE  CHIEF OF POLICE  248434.39\n",
            "50  51       KIRK RICHARDSON  CHIEF OF POLICE  247254.61\n",
            "51  52        BARBARA GARCIA  CHIEF OF POLICE  246305.62\n",
            "52  53      MICHAEL ROLOVICH  CHIEF OF POLICE  244687.81\n",
            "53  54         DARRYL HUNTER  CHIEF OF POLICE  242742.85\n",
            "54  55          RAY CRAWFORD  CHIEF OF POLICE  241286.42\n",
            "55  56         KEVIN CASHMAN      ANESTHETIST  241211.17\n",
            "56  57   BENJAMIN ROSENFIELD      ANESTHETIST  240846.30\n",
            "57  58          MARK KEARNEY      ANESTHETIST  240019.10\n",
            "58  59          DOUGLAS RIBA      ANESTHETIST  239426.36\n",
            "59  60        AI-KYUNG CHUNG      ANESTHETIST  238879.20\n"
          ]
        },
        {
          "output_type": "stream",
          "name": "stderr",
          "text": [
            "/usr/local/lib/python3.7/dist-packages/ipykernel_launcher.py:2: FutureWarning: As the xlwt package is no longer maintained, the xlwt engine will be removed in a future version of pandas. This is the only engine in pandas that supports writing in the xls format. Install openpyxl and write to an xlsx file instead. You can set the option io.excel.xls.writer to 'xlwt' to silence this warning. While this option is deprecated and will also raise a warning, it can be globally set and the warning suppressed.\n",
            "  \n"
          ]
        },
        {
          "output_type": "execute_result",
          "data": {
            "text/plain": [
              "0     567595.43\n",
              "1     538909.28\n",
              "2     335279.91\n",
              "3     332343.61\n",
              "4     326373.19\n",
              "5     316285.74\n",
              "6     315981.05\n",
              "7     307899.46\n",
              "8     303427.55\n",
              "9     302377.73\n",
              "10    299494.17\n",
              "11    297608.92\n",
              "12    294580.02\n",
              "13    292671.62\n",
              "14    286347.05\n",
              "15    286213.86\n",
              "16    284720.43\n",
              "17    278569.21\n",
              "18    276434.22\n",
              "19    274550.25\n",
              "20    274190.27\n",
              "21    273771.21\n",
              "22    273702.71\n",
              "23    270672.63\n",
              "24    270324.91\n",
              "25    267992.59\n",
              "26    265784.56\n",
              "27    265463.46\n",
              "28    264074.60\n",
              "29    261366.14\n",
              "30    260297.66\n",
              "31    259927.11\n",
              "32    259684.88\n",
              "33    258588.39\n",
              "34    258364.22\n",
              "35    257540.09\n",
              "36    257124.44\n",
              "37    253269.44\n",
              "38    251935.01\n",
              "39    251685.16\n",
              "40    250595.39\n",
              "41    250408.49\n",
              "42    250339.35\n",
              "43    250317.93\n",
              "44    250122.04\n",
              "45    249375.02\n",
              "46    249293.30\n",
              "47    248895.77\n",
              "48    248718.64\n",
              "49    248434.39\n",
              "50    247254.61\n",
              "51    246305.62\n",
              "52    244687.81\n",
              "53    242742.85\n",
              "54    241286.42\n",
              "55    241211.17\n",
              "56    240846.30\n",
              "57    240019.10\n",
              "58    239426.36\n",
              "59    238879.20\n",
              "Name: Salary, dtype: float64"
            ]
          },
          "metadata": {},
          "execution_count": 169
        }
      ]
    }
  ]
}