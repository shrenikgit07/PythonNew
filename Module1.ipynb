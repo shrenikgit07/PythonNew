{
  "nbformat": 4,
  "nbformat_minor": 0,
  "metadata": {
    "colab": {
      "name": "Module1.ipynb",
      "provenance": [],
      "collapsed_sections": [],
      "authorship_tag": "ABX9TyMr3Y8SxWoqxyQu9UsMLx1g",
      "include_colab_link": true
    },
    "kernelspec": {
      "name": "python3",
      "display_name": "Python 3"
    },
    "language_info": {
      "name": "python"
    }
  },
  "cells": [
    {
      "cell_type": "markdown",
      "metadata": {
        "id": "view-in-github",
        "colab_type": "text"
      },
      "source": [
        "<a href=\"https://colab.research.google.com/github/shrenikgit07/PythonNew/blob/Module1/Module1.ipynb\" target=\"_parent\"><img src=\"https://colab.research.google.com/assets/colab-badge.svg\" alt=\"Open In Colab\"/></a>"
      ]
    },
    {
      "cell_type": "code",
      "execution_count": null,
      "metadata": {
        "colab": {
          "base_uri": "https://localhost:8080/"
        },
        "id": "muxyMmpKGTEM",
        "outputId": "77c5a132-4d00-4303-daa2-983f533ccc9d"
      },
      "outputs": [
        {
          "output_type": "stream",
          "name": "stdout",
          "text": [
            "4\n",
            "4\n"
          ]
        }
      ],
      "source": [
        "#Accept input from user and styore it in variable and print the value\n",
        "num=int(input())\n",
        "a=num\n",
        "print(a)"
      ]
    },
    {
      "cell_type": "code",
      "source": [
        "#Use of print statements and use of (.format) for printing different data types \n",
        "maths=90\n",
        "science=80\n",
        "computers=70\n",
        "english=60\n",
        "hindi=50\n",
        "txt=\"\"\"I am Shrenik,I scored {0} marks in maths,{1} marks in science,{2} marks in computers,{3} marks in english,{4} marks in hindi.\"\"\"\n",
        "print(txt.format(maths,science,computers,english,hindi))"
      ],
      "metadata": {
        "colab": {
          "base_uri": "https://localhost:8080/"
        },
        "id": "BQ5Ls7utHsFB",
        "outputId": "4c564de0-0d28-48c0-f0c2-6e12fc6e30e7"
      },
      "execution_count": null,
      "outputs": [
        {
          "output_type": "stream",
          "name": "stdout",
          "text": [
            "I am Shrenik,I scored 90 marks in maths,80 marks in science,70 marks in computers,60 marks in english,50 marks in hindi.\n"
          ]
        }
      ]
    },
    {
      "cell_type": "code",
      "source": [
        "import builtins\n",
        "#Take two numbers as user input and add,multiply,divide,subtract,remainder and print the output\n",
        "a=int(input())\n",
        "b=int(input())\n",
        "c=a+b\n",
        "print(c)\n",
        "d=a*b\n",
        "print(d)\n",
        "e=a/b\n",
        "print(e)\n",
        "f=a-b\n",
        "print(f)\n",
        "g=a%b\n",
        "print(g)"
      ],
      "metadata": {
        "colab": {
          "base_uri": "https://localhost:8080/"
        },
        "id": "nV3Kh1LjJrLe",
        "outputId": "e0c0e030-d540-4941-d339-fab7a4cb05b0"
      },
      "execution_count": null,
      "outputs": [
        {
          "output_type": "stream",
          "name": "stdout",
          "text": [
            "21\n",
            "30\n",
            "51\n",
            "630\n",
            "0.7\n",
            "-9\n",
            "21\n"
          ]
        }
      ]
    },
    {
      "cell_type": "code",
      "source": [
        "#Conversion of one unit to another\n",
        "num=float(input())\n",
        "hours=num\n",
        "minutes=hours*60\n",
        "print(minutes,\"minutes\")\n",
        "num=float(input())\n",
        "miles=num\n",
        "km=miles*1.6\n",
        "print(km,\"kilometres\")\n",
        "num=float(input())\n",
        "kg=num\n",
        "g=kg*1000\n",
        "print(g,\"grams\")\n"
      ],
      "metadata": {
        "colab": {
          "base_uri": "https://localhost:8080/"
        },
        "id": "6Q_AWYCLKqk4",
        "outputId": "1c90a700-fe84-4c2a-9435-8e0f7d55bab7"
      },
      "execution_count": null,
      "outputs": [
        {
          "output_type": "stream",
          "name": "stdout",
          "text": [
            "5\n",
            "300.0 minutes\n",
            "10\n",
            "16.0 kilometres\n",
            "20\n",
            "20000.0 grams\n"
          ]
        }
      ]
    },
    {
      "cell_type": "code",
      "source": [
        "#Usage of mathematical functions in python\n",
        "import math\n",
        "a=math.ceil(4.5)\n",
        "b=math.floor(4.5)\n",
        "c=math.fabs(-4.5)\n",
        "d=math.fmod(24,26)\n",
        "e=math.trunc(4.5)\n",
        "f=pow(4,5)\n",
        "g=math.sqrt(25)\n",
        "\n",
        "print(a)\n",
        "print(b)\n",
        "print(c)\n",
        "print(d)\n",
        "print(e)\n",
        "print(f)\n",
        "print(g)"
      ],
      "metadata": {
        "colab": {
          "base_uri": "https://localhost:8080/"
        },
        "id": "EUxG1fRqL_lD",
        "outputId": "27c773e7-5109-469f-e457-85c518faba81"
      },
      "execution_count": null,
      "outputs": [
        {
          "output_type": "stream",
          "name": "stdout",
          "text": [
            "5\n",
            "4\n",
            "4.5\n",
            "24.0\n",
            "4\n",
            "1024\n",
            "5.0\n"
          ]
        }
      ]
    },
    {
      "cell_type": "code",
      "source": [
        ""
      ],
      "metadata": {
        "id": "YSi1ghfiDiZl"
      },
      "execution_count": null,
      "outputs": []
    }
  ]
}