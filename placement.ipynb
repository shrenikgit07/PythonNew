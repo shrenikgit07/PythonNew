{
  "nbformat": 4,
  "nbformat_minor": 0,
  "metadata": {
    "colab": {
      "name": "placement.ipynb",
      "provenance": [],
      "authorship_tag": "ABX9TyNLuilwOmi5qozoLCpjMJ/g",
      "include_colab_link": true
    },
    "kernelspec": {
      "name": "python3",
      "display_name": "Python 3"
    },
    "language_info": {
      "name": "python"
    }
  },
  "cells": [
    {
      "cell_type": "markdown",
      "metadata": {
        "id": "view-in-github",
        "colab_type": "text"
      },
      "source": [
        "<a href=\"https://colab.research.google.com/github/shrenikgit07/PythonNew/blob/Module2/placement.ipynb\" target=\"_parent\"><img src=\"https://colab.research.google.com/assets/colab-badge.svg\" alt=\"Open In Colab\"/></a>"
      ]
    },
    {
      "cell_type": "code",
      "execution_count": null,
      "metadata": {
        "id": "BZaGFGUxbgIW",
        "colab": {
          "base_uri": "https://localhost:8080/"
        },
        "outputId": "69ff9d58-b2eb-416d-af4d-8c5af50f034b"
      },
      "outputs": [
        {
          "output_type": "stream",
          "name": "stdout",
          "text": [
            "{'name': 'Shrenik', 'age': '18 years', 'cgpa': '9.2', 'phone number': '+91 9381487355', 'section': 'A'}\n",
            "enter name:shrenik\n",
            "enter age:18\n",
            "enter cgpa:9.5\n",
            "enter number:9381487355\n",
            "enter section:A\n",
            "{'name': 'shrenik', 'age': 18, 'cgpa': 9.5, 'phone_number': 9381487355, 'section': 'A'}\n"
          ]
        }
      ],
      "source": [
        "placement={\n",
        "    \"name\":\"Shrenik\",\n",
        "    \"age\":\"18 years\",\n",
        "    \"cgpa\":\"9.2\",\n",
        "    \"phone number\":\"+91 9381487355\",\n",
        "    \"section\":\"A\"\n",
        "\n",
        "}\n",
        "print(placement)\n",
        "placement={\n",
        "    \"name\":input(\"enter name:\"),\n",
        "    \"age\":int(input(\"enter age:\")),\n",
        "    \"cgpa\":float(input(\"enter cgpa:\")),\n",
        "    \"phone_number\":int(input(\"enter number:\")),\n",
        "    \"section\":input(\"enter section:\")\n",
        "}\n",
        "print(placement)"
      ]
    },
    {
      "cell_type": "code",
      "source": [
        "\n",
        "name=input(\"enter your name:\")\n",
        "age=input(\"enter your age:\")\n",
        "cgpa=input(\"cgpa:\")\n",
        "\n",
        "def placement(name,age,cgpa):\n",
        "  \n",
        "  print(name)\n",
        "  print(age)\n",
        "  print(cgpa)\n",
        " \n",
        "placement(name,age,cgpa)\n",
        "\n",
        "\n"
      ],
      "metadata": {
        "colab": {
          "base_uri": "https://localhost:8080/"
        },
        "id": "vY5rgfCGguRW",
        "outputId": "19d4df26-cd5a-4596-d04f-e08cab29f236"
      },
      "execution_count": null,
      "outputs": [
        {
          "output_type": "stream",
          "name": "stdout",
          "text": [
            "enter your name:shrenik\n",
            "enter your age:18\n",
            "cgpa:9\n",
            "shrenik\n",
            "18\n",
            "9\n"
          ]
        }
      ]
    }
  ]
}