{
  "nbformat": 4,
  "nbformat_minor": 0,
  "metadata": {
    "colab": {
      "name": "Questionbank.ipynb",
      "provenance": [],
      "collapsed_sections": [],
      "authorship_tag": "ABX9TyMtOKoUbMpxNIuAhcaWotHE",
      "include_colab_link": true
    },
    "kernelspec": {
      "name": "python3",
      "display_name": "Python 3"
    },
    "language_info": {
      "name": "python"
    }
  },
  "cells": [
    {
      "cell_type": "markdown",
      "metadata": {
        "id": "view-in-github",
        "colab_type": "text"
      },
      "source": [
        "<a href=\"https://colab.research.google.com/github/shrenikgit07/PythonNew/blob/Module2/Questionbank.ipynb\" target=\"_parent\"><img src=\"https://colab.research.google.com/assets/colab-badge.svg\" alt=\"Open In Colab\"/></a>"
      ]
    },
    {
      "cell_type": "code",
      "execution_count": null,
      "metadata": {
        "id": "55-hHu0fazks"
      },
      "outputs": [],
      "source": [
        "#write a program to print prime numbers in a given range(25-50) using a function\n",
        "#write a program to read any month in integer and display days for that month using function\n",
        "#write a program to print even length words in a string using function (this is python class)\n",
        "#a)first write a python program to capitalize the first letter and last letter of a word\n",
        "#b)write a program to read a string from user display first character of each word with capital letter \n",
        "#write a python program to convert a list of multiple integers into single integers\n",
        "\n",
        "#write a python program to find power of number with recursion\n",
        "#write a python program to sort tuples by total digits   list=[(3,4,6,723),(1,2),(134,234,34)]\n",
        "#accepting 5 subject marks from the user and display the grade if average is 90-100 O grade till C grade asnd less than 40 is fail\n",
        "#write a python program that prints 1 if all the three given numbers are in ascending order.Otherewise,print 0\n",
        "#check given number is perfect number or not\n",
        "#check given number is a strong number or not\n",
        "#check given string is palindrome or not using string slicing\n",
        "#find the gcd of two numbers with recursion\n",
        "#print sum of even digits in a given number\n",
        "#calculate the product of digits of a number given by user\n",
        "#calculate the sum of squares of digits of a number given by user\n",
        "#given an integer n,return a list containing 1223334444\n",
        "#print no.of vowels and consonants in a given string\n",
        "#given two integers A and B.If A<B print all numbers in ascending order else print in descending order\n",
        "#program to print largest value among 3 numbers\n",
        "#Program to count the number of strings where the string length is 2 or more and the first and last character are same from a given list of strings x Sample List : ['abc', 'xyz', 'aba', '1221'] Expected Result : 2\n",
        "#There is a walking track of 3km.Roundtrip of walking track means 3+3=6km.take input from the user as no.of days,no.of round trips completed in a day.calculate the total distance covered in meters.give a messege as:\"Need to walk more\"if the distance is less than 40000 meters.Give a messege as \"good luck\"\n",
        "#given a list of student names in L and a character display the names of the students whose first letter is given as input character.\n",
        "#given a list of city names.Print the city names whose length is greater than the given length."
      ]
    },
    {
      "cell_type": "code",
      "source": [
        "#write a program to print prime numbers in a given range using function\n",
        "a=int(input(\"enter a lower range number:\"))\n",
        "b=int(input(\"enter a higer range number:\"))\n",
        "def prime(a,b):\n",
        "\n",
        "  print(\"prime numbers in a given range are:\")\n",
        "  for n in range(a,b+1):\n",
        "    if n>1:\n",
        "      for i in range(2,n):\n",
        "       if (n%i)==0:\n",
        "          break\n",
        "      else:\n",
        "        print(n)\n",
        "prime(a,b)"
      ],
      "metadata": {
        "id": "pt8_8y1Kq7D9"
      },
      "execution_count": null,
      "outputs": []
    },
    {
      "cell_type": "code",
      "source": [
        "#write a program to read any month in integer and display days for that month using function\n",
        "m=input(\"Enter the month in integer:\")\n",
        "def month(m):\n",
        "   if m==\"2\":\n",
        "    print(\"number of days:28\")\n",
        "   elif m in (\"4\",\"6\",\"9\",\"11\"):\n",
        "    print(\"number of days:30\")\n",
        "   elif m in (\"1\",\"3\",\"5\",\"7\",\"8\",\"10\",\"12\"):\n",
        "    print(\"number of days:31\")\n",
        "   else:\n",
        "    print(\"No month\")\n",
        "month(m)"
      ],
      "metadata": {
        "colab": {
          "base_uri": "https://localhost:8080/"
        },
        "id": "Dm6GyQRyjlEi",
        "outputId": "af262a2b-97c8-4ca8-ffd4-b00c81abd1ca"
      },
      "execution_count": null,
      "outputs": [
        {
          "output_type": "stream",
          "name": "stdout",
          "text": [
            "Enter the month in integer:12\n",
            "number of days:31\n"
          ]
        }
      ]
    },
    {
      "cell_type": "code",
      "source": [
        "#write a program to print even length words in a string using function (this is python class)\n",
        "s=\"This is a python class\"\n",
        "def even(s):\n",
        "  s=s.split(\" \")\n",
        "  for i in (s):\n",
        "      if len(i)%2==0:\n",
        "         print(i)\n",
        "even(s)"
      ],
      "metadata": {
        "id": "vds6S_UYvgXF",
        "colab": {
          "base_uri": "https://localhost:8080/"
        },
        "outputId": "73582b26-a5f2-4f02-fdfb-dd74249b480b"
      },
      "execution_count": null,
      "outputs": [
        {
          "output_type": "stream",
          "name": "stdout",
          "text": [
            "This\n",
            "is\n",
            "python\n"
          ]
        }
      ]
    },
    {
      "cell_type": "code",
      "source": [
        "#a)first write a python program to capitalize the first letter and last letter of a word\n",
        "s=input(\"enter a string:\")\n",
        "def capitalize(s):\n",
        "  s=s[0].capitalize()+s[1:len(s)-1]+s[-1].capitalize()\n",
        "  print(s)\n",
        "capitalize(s)"
      ],
      "metadata": {
        "colab": {
          "base_uri": "https://localhost:8080/"
        },
        "id": "cqrpkwVItWdJ",
        "outputId": "4525777f-1e3d-4182-c830-b890f54c20c3"
      },
      "execution_count": null,
      "outputs": [
        {
          "output_type": "stream",
          "name": "stdout",
          "text": [
            "enter a string:shrenik\n",
            "ShreniK\n"
          ]
        }
      ]
    },
    {
      "cell_type": "code",
      "source": [
        "#b)write a program to read a string from user display first character of each word with capital letter\n",
        "s=input(\"enter a string:\")\n",
        "def capital(s):\n",
        "  s=s.title()\n",
        "  print(s)\n",
        "capital(s)"
      ],
      "metadata": {
        "colab": {
          "base_uri": "https://localhost:8080/"
        },
        "id": "wcBfWteT2ljU",
        "outputId": "59298885-5cb2-462c-af82-315b9162f1b7"
      },
      "execution_count": null,
      "outputs": [
        {
          "output_type": "stream",
          "name": "stdout",
          "text": [
            "enter a string:python is a programming language\n",
            "Python Is A Programming Language\n"
          ]
        }
      ]
    },
    {
      "cell_type": "code",
      "source": [
        "#write a python program to convert a list of multiple integers into single integers\n",
        "n=int(input(\"how many numbers you want to enter into the list:\"))\n",
        "def single(n):\n",
        "  a=[]\n",
        "  for i in range(n):\n",
        "    b=int(input(\"enter the number:\"))\n",
        "    a.append(b)\n",
        "  for i in (a):\n",
        "    print(i,end=\"\")\n",
        "single(n)"
      ],
      "metadata": {
        "colab": {
          "base_uri": "https://localhost:8080/"
        },
        "id": "-1hIyRNI8jI8",
        "outputId": "32371ee5-7979-4bd5-8559-7f948655d293"
      },
      "execution_count": null,
      "outputs": [
        {
          "output_type": "stream",
          "name": "stdout",
          "text": [
            "how many numbers you want to enter into the list:3\n",
            "enter the number:11\n",
            "enter the number:55\n",
            "enter the number:33\n",
            "115533"
          ]
        }
      ]
    },
    {
      "cell_type": "code",
      "source": [
        "#write a python program to find power of number with recursion\n",
        "n=int(input(\" \"))\n",
        "p=int(input(\" \"))\n",
        "def power(n,p):\n",
        "    if(p==1):\n",
        "        return(n)\n",
        "    if(p==0):\n",
        "        return(1)\n",
        "    if(p!=1):\n",
        "        return(n*power(n,p-1))\n",
        "print(power(n,p))"
      ],
      "metadata": {
        "colab": {
          "base_uri": "https://localhost:8080/"
        },
        "id": "xlcHtruOVbM9",
        "outputId": "42391a0f-288a-4ae2-c9fd-c181301efb26"
      },
      "execution_count": null,
      "outputs": [
        {
          "output_type": "stream",
          "name": "stdout",
          "text": [
            " 5\n",
            " 2\n",
            "25\n"
          ]
        }
      ]
    },
    {
      "cell_type": "code",
      "source": [
        "#write a python program to sort tuples by total digits   list=[(3,4,6,723),(1,2),(134,234,34)]\n",
        "l=[(3,4,6,723),(1,2),(134,234,34)]\n",
        "l.sort()\n",
        "print(l)"
      ],
      "metadata": {
        "colab": {
          "base_uri": "https://localhost:8080/"
        },
        "id": "25PdPNZLTc1S",
        "outputId": "c4cf69c5-5c80-43f6-b7d1-0d4144ea3209"
      },
      "execution_count": null,
      "outputs": [
        {
          "output_type": "stream",
          "name": "stdout",
          "text": [
            "[(1, 2), (3, 4, 6, 723), (134, 234, 34)]\n"
          ]
        }
      ]
    },
    {
      "cell_type": "code",
      "source": [
        "#accepting 5 subject marks from the user and display the grade\n",
        "maths=int(input(\"enter maths marks:\"))\n",
        "physics=int(input(\"enter physics marks:\"))\n",
        "chemistry=int(input(\"enter chemistry marks:\"))\n",
        "python=int(input(\"enter python marks:\"))\n",
        "english=int(input(\"enter english marks:\"))\n",
        "avg=(maths+physics+chemistry+python+english)/5\n",
        "\n",
        "if (avg>=90):\n",
        "  print(\"Your grade:O\")\n",
        "elif (avg>=80 and avg<90):\n",
        "  print(\"Your grade:A+\")\n",
        "elif (avg>=70 and avg<80):\n",
        "  print(\"Your grade:A\")\n",
        "elif (avg>=60 and avg<70):\n",
        "  print(\"Your grade:B+\")\n",
        "elif (avg>=50 and avg<60):\n",
        "  print(\"Your grade:B\")\n",
        "elif (avg>=40 and avg<50):\n",
        "  print(\"Your grade:C\")\n",
        "else:\n",
        "  print(\"Fail\")"
      ],
      "metadata": {
        "colab": {
          "base_uri": "https://localhost:8080/"
        },
        "id": "d9L8zULi5a__",
        "outputId": "da0e0629-0a4e-4a09-9759-387fc57a4477"
      },
      "execution_count": null,
      "outputs": [
        {
          "output_type": "stream",
          "name": "stdout",
          "text": [
            "enter maths marks:80\n",
            "enter physics marks:80\n",
            "enter chemistry marks:80\n",
            "enter python marks:80\n",
            "enter english marks:80\n",
            "Your grade:A+\n"
          ]
        }
      ]
    },
    {
      "cell_type": "code",
      "source": [
        "#write a python program that prints 1 if all the three given numbers are in ascending order.Otherewise,print 0\n",
        "a=int(input())\n",
        "b=int(input())\n",
        "c=int(input())\n",
        "def ascdesc(a,b,c):\n",
        "  if a<b<c:\n",
        "    print(\"1\")\n",
        "  else:\n",
        "      print(\"0\")\n",
        "ascdesc(a,b,c)"
      ],
      "metadata": {
        "colab": {
          "base_uri": "https://localhost:8080/"
        },
        "id": "eE0z6ZvU7eO7",
        "outputId": "3e87f51c-c438-4395-d713-e961b36781ef"
      },
      "execution_count": null,
      "outputs": [
        {
          "output_type": "stream",
          "name": "stdout",
          "text": [
            "12\n",
            "3\n",
            "42\n",
            "0\n"
          ]
        }
      ]
    },
    {
      "cell_type": "code",
      "source": [
        "#check given number is perfect number or not\n",
        "n=int(input(\"enter a number:\"))\n",
        "def perfect(n):\n",
        "  sum=0\n",
        "  for i in range(1,n):\n",
        "    if n % i==0:\n",
        "      sum=sum+i\n",
        "  if sum==n:\n",
        "    print(\"given number is a perfect number\")\n",
        "  else:\n",
        "    print(\"given number isnt a perfect number\")\n",
        "perfect(n)"
      ],
      "metadata": {
        "colab": {
          "base_uri": "https://localhost:8080/"
        },
        "id": "o6Ym0j9UABJW",
        "outputId": "4fbf29c5-69a3-4fff-9cfe-6b8d8987d61a"
      },
      "execution_count": null,
      "outputs": [
        {
          "output_type": "stream",
          "name": "stdout",
          "text": [
            "enter a number:28\n",
            "given number is a perfect number\n"
          ]
        }
      ]
    },
    {
      "cell_type": "code",
      "source": [
        "#check given number is strong or not\n",
        "n=int(input(\"Enter a number:\"))\n",
        "def strong(n):\n",
        "   temp=n\n",
        "   sum=0\n",
        "   while(n>0):\n",
        "     rem=n%10\n",
        "     fact=1\n",
        "     for i in range(1,rem+1):\n",
        "         fact=fact*i\n",
        "     n=n//10\n",
        "     sum=sum+fact\n",
        "   if sum==temp:\n",
        "     print(\"given number is a strong number\")\n",
        "   else:\n",
        "     print(\"given number isnt a strong number\")\n",
        "strong(n)"
      ],
      "metadata": {
        "colab": {
          "base_uri": "https://localhost:8080/"
        },
        "id": "KJUH7GUwAYv3",
        "outputId": "37fda0ef-2eb0-40f2-ee36-57d46967a2b2"
      },
      "execution_count": null,
      "outputs": [
        {
          "output_type": "stream",
          "name": "stdout",
          "text": [
            "Enter a number:145\n",
            "given number is a strong number\n"
          ]
        }
      ]
    },
    {
      "cell_type": "code",
      "source": [
        "#check given string is palindrome or not using string slicing\n",
        "a=input(\"enter a string:\")\n",
        "b=a[::-1]\n",
        "def palindrome(a,b):\n",
        "  if a==b:\n",
        "    print(\"given string is palindrome\")\n",
        "  else:\n",
        "      print(\"given string isnt a palindrome\")\n",
        "palindrome(a,b)"
      ],
      "metadata": {
        "colab": {
          "base_uri": "https://localhost:8080/"
        },
        "id": "R5X84LhsTMvM",
        "outputId": "ca84aca4-affa-4303-e36e-ef3ee42c40aa"
      },
      "execution_count": null,
      "outputs": [
        {
          "output_type": "stream",
          "name": "stdout",
          "text": [
            "enter a string:malayalam\n",
            "given string is palindrome\n"
          ]
        }
      ]
    },
    {
      "cell_type": "code",
      "source": [
        "#find the gcd of two numbers with recursion\n",
        "a=int(input(\"enter first number:\"))\n",
        "b=int(input(\"enter second number:\"))\n",
        "def gcd(a,b):\n",
        "  if (b==0):\n",
        "    return a\n",
        "  else:\n",
        "    return gcd(b,a%b)\n",
        "print(\"GCD is\",gcd(a,b))"
      ],
      "metadata": {
        "colab": {
          "base_uri": "https://localhost:8080/"
        },
        "id": "vIxn1IKkAmh4",
        "outputId": "116f1235-5e60-46c4-adf3-668de28e413e"
      },
      "execution_count": null,
      "outputs": [
        {
          "output_type": "stream",
          "name": "stdout",
          "text": [
            "enter first number:8\n",
            "enter second number:16\n",
            "GCD is 8\n"
          ]
        }
      ]
    },
    {
      "cell_type": "code",
      "source": [
        "#print sum of even digits in a given number\n",
        "n=int(input(\"enter the size of list:\"))\n",
        "def evendig(n):\n",
        "  a=[]\n",
        "  for i in range(n):\n",
        "    b=int(input(\"enter numbers:\"))\n",
        "    a.append(b)\n",
        "\n",
        "    even=[]\n",
        "    for i in (a):\n",
        "      if(i%2==0):\n",
        "       even.append(i)\n",
        "  print(\"sum of even digits is:\",sum(even))\n",
        "evendig(n)"
      ],
      "metadata": {
        "colab": {
          "base_uri": "https://localhost:8080/"
        },
        "id": "3__2p-vTLUK4",
        "outputId": "b4a4d1b4-b179-4fb3-8f94-ad738fabb271"
      },
      "execution_count": null,
      "outputs": [
        {
          "output_type": "stream",
          "name": "stdout",
          "text": [
            "enter the size of list:5\n",
            "enter numbers:1\n",
            "enter numbers:2\n",
            "enter numbers:3\n",
            "enter numbers:4\n",
            "enter numbers:5\n",
            "sum of even digits is: 6\n"
          ]
        }
      ]
    },
    {
      "cell_type": "code",
      "source": [
        "#calculate the product of digits of a number given by user\n",
        "def product(a,b):\n",
        "  if a>b:\n",
        "    return product(b,a)\n",
        "  elif b!=0:\n",
        "    return (a+product(a,b-1))\n",
        "  else:\n",
        "    return 0\n",
        "a=(int(input(\"enter first number:\")))\n",
        "b=(int(input(\"enter second number:\")))\n",
        "\n",
        "print(\"Product is\",product(a,b))\n"
      ],
      "metadata": {
        "colab": {
          "base_uri": "https://localhost:8080/"
        },
        "id": "MsJZTjrAE7Gh",
        "outputId": "0f6fa22d-f188-4594-e0f4-8c1f3155118c"
      },
      "execution_count": null,
      "outputs": [
        {
          "output_type": "stream",
          "name": "stdout",
          "text": [
            "enter first number:2\n",
            "enter second number:12\n",
            "Product is 24\n"
          ]
        }
      ]
    },
    {
      "cell_type": "code",
      "source": [
        "#calculate the sum of squares of digits of a number given by user\n",
        "n=int(input(\"enter a number:\"))\n",
        "def square(n):\n",
        "  sum=0\n",
        "  while(n>0):\n",
        "    rem=n%10\n",
        "    sqr=rem*rem\n",
        "    sum=sum+sqr\n",
        "    n=n//10\n",
        "  print(\"sum of squares of number is:\",sum)\n",
        "square(n)"
      ],
      "metadata": {
        "id": "jRslYqeyFNGX",
        "colab": {
          "base_uri": "https://localhost:8080/"
        },
        "outputId": "b21880ba-ff27-4dba-c1cb-96446fb6180c"
      },
      "execution_count": null,
      "outputs": [
        {
          "output_type": "stream",
          "name": "stdout",
          "text": [
            "enter a number:123\n",
            "sum of squares of number is: 14\n"
          ]
        }
      ]
    },
    {
      "cell_type": "code",
      "source": [
        "#given an integer n,return a list containing 1223334444\n",
        "n=int(input(\"enter the range of number:\"))\n",
        "def repeat(n):\n",
        "  for i in range(1,n+1):\n",
        "    for a in range(i):\n",
        "      print(i,end=\"\")\n",
        "repeat(n)\n",
        "  "
      ],
      "metadata": {
        "colab": {
          "base_uri": "https://localhost:8080/"
        },
        "id": "eHXPoEsaQSSN",
        "outputId": "ddc08b7f-fc8e-4046-a98b-abb8f2308e07"
      },
      "execution_count": null,
      "outputs": [
        {
          "output_type": "stream",
          "name": "stdout",
          "text": [
            "enter the range of number:4\n",
            "1223334444"
          ]
        }
      ]
    },
    {
      "cell_type": "code",
      "source": [
        "#print no.of vowels and consonants in a given string\n",
        "n=input(\"enter a string:\")\n",
        "def vowelandconsonant(n):\n",
        "  vowel=0\n",
        "  consonant=0\n",
        "  for i in (n):\n",
        "    if (i ==\"A\" or  i ==\"E\" or  i ==\"I\" or  i ==\"O\" or  i ==\"U\" or\n",
        "       i ==\"a\" or i ==\"e\" or i ==\"i\" or  i ==\"o\" or i ==\"u\" ):\n",
        "      vowel=vowel+1\n",
        "    else:\n",
        "      consonant=consonant+1\n",
        "  print(\"The number of vowels are:\",vowel)\n",
        "  print(\"The number of consonants are:\",consonant)\n",
        "vowelandconsonant(n)"
      ],
      "metadata": {
        "colab": {
          "base_uri": "https://localhost:8080/"
        },
        "id": "4Wm-XzZXQXzq",
        "outputId": "a017aaa8-bea3-4670-ba9e-e0280153af75"
      },
      "execution_count": null,
      "outputs": [
        {
          "output_type": "stream",
          "name": "stdout",
          "text": [
            "enter a string:python is interesting\n",
            "The number of vowels are: 6\n",
            "The number of consonants are: 15\n"
          ]
        }
      ]
    },
    {
      "cell_type": "code",
      "source": [
        "#given two integers A and B.If A<B print all numbers in ascending order else print in descending order\n",
        "n=int(input(\"enter size of list:\"))\n",
        "a=[]\n",
        "for i in range(n):\n",
        "  b=int(input(\"enter the number:\"))\n",
        "  a.append(b)\n",
        "if a[0]<a[-1]:\n",
        "  a.sort()\n",
        "else:\n",
        "  a.sort(reverse=True)\n",
        "print(a)"
      ],
      "metadata": {
        "colab": {
          "base_uri": "https://localhost:8080/"
        },
        "id": "xi0zRbRDZj_h",
        "outputId": "4d619014-b332-4270-fa82-1327015f7a2c"
      },
      "execution_count": null,
      "outputs": [
        {
          "output_type": "stream",
          "name": "stdout",
          "text": [
            "enter size of list:2\n",
            "enter the number:12\n",
            "enter the number:13\n",
            "[12, 13]\n"
          ]
        }
      ]
    },
    {
      "cell_type": "code",
      "source": [
        "#program to print largest value among 3 numbers\n",
        "a=int(input(\"enter first number:\"))\n",
        "b=int(input(\"enter second number:\"))\n",
        "c=int(input(\"enter third number:\"))\n",
        "def largest(a,b,c):\n",
        "\n",
        "  if a>b and a>c:\n",
        "    print(\"largest among three numbers is:\",a)\n",
        "  elif b>a and b>c:\n",
        "    print(\"largest among three numbers is:\",b)\n",
        "  else:\n",
        "    print(\"largest among three numbers is:\",c)\n",
        "largest(a,b,c)"
      ],
      "metadata": {
        "colab": {
          "base_uri": "https://localhost:8080/"
        },
        "id": "LQMCoylIaA7A",
        "outputId": "64d2371f-a73c-44c9-8c54-d6cbb85f519a"
      },
      "execution_count": null,
      "outputs": [
        {
          "output_type": "stream",
          "name": "stdout",
          "text": [
            "enter first number:1\n",
            "enter second number:11\n",
            "enter third number:111\n",
            "largest among three numbers is: 111\n"
          ]
        }
      ]
    },
    {
      "cell_type": "code",
      "source": [
        "'''Program to count the number of strings where the string length is 2 or more and\n",
        "the first and last character are same from a given list of strings\n",
        "x Sample List : ['abc', 'xyz', 'aba', '1221'] Expected Result : 2'''\n",
        "\n",
        "s= ['abc', 'xyz', 'aba', '1221']\n",
        "def sample(s):\n",
        "  c=0\n",
        "  for i in s:\n",
        "    x=len(i)\n",
        "    if x>=2 and i[0]==i[-1]:\n",
        "      c=c+1\n",
        "  print(c)    \n",
        "sample(s)"
      ],
      "metadata": {
        "colab": {
          "base_uri": "https://localhost:8080/"
        },
        "id": "JxzM_gvdboMP",
        "outputId": "87b07396-ec93-4e21-8ccf-0cf18d1d55c0"
      },
      "execution_count": null,
      "outputs": [
        {
          "output_type": "stream",
          "name": "stdout",
          "text": [
            "2\n"
          ]
        }
      ]
    },
    {
      "cell_type": "code",
      "source": [
        "#There is a walking track of 3km.Roundtrip of walking track means 3+3=6km.take input from the user as no.of days,no.of round trips completed in a day.calculate the total distance covered in meters.give a messege as:\"Need to walk more\"if the distance is less than 40000 meters.Give a messege as \"good luck\"\n",
        "a=int(input(\"Enter no.of days:\"))\n",
        "b=int(input(\"Enter no.of round trips completed in a day(in km):\"))\n",
        "def Walking(a,b):\n",
        "  d=a*b*6000\n",
        "  if d>=40000:\n",
        "    print(\"good luck\")\n",
        "  else:\n",
        "    print('need to walk more')\n",
        "Walking(a,b)\n"
      ],
      "metadata": {
        "colab": {
          "base_uri": "https://localhost:8080/"
        },
        "id": "C-ZZk_u3D6t-",
        "outputId": "6d648522-c3c9-4786-cd4a-bb9f419f5874"
      },
      "execution_count": null,
      "outputs": [
        {
          "output_type": "stream",
          "name": "stdout",
          "text": [
            "Enter no.of days:3\n",
            "Enter no.of round trips completed in a day(in km):5\n",
            "good luck\n"
          ]
        }
      ]
    },
    {
      "cell_type": "code",
      "source": [
        "#given a list of city names.Print the city names whose length is greater than the given length\n",
        "l=int(input(\"min size of length:\"))\n",
        "n=int(input(\"enter size of list:\"))\n",
        "def city_name(l,n):\n",
        "  a=[]\n",
        "  for i in range(n):\n",
        "    b=input(\"enter city names:\")\n",
        "    a.append(b)\n",
        "  city=a\n",
        "  for a in city:\n",
        "    if len(a)>l:\n",
        "       print(a)\n",
        "city_name(l,n)  "
      ],
      "metadata": {
        "colab": {
          "base_uri": "https://localhost:8080/"
        },
        "id": "89PNyHv4YoPP",
        "outputId": "c60857fe-6c0d-402f-c406-97d3cfbab651"
      },
      "execution_count": null,
      "outputs": [
        {
          "output_type": "stream",
          "name": "stdout",
          "text": [
            "min size of length:6\n",
            "enter size of list:4\n",
            "enter city names:hyderabad\n",
            "enter city names:goa\n",
            "enter city names:bangalore\n",
            "enter city names:delhi\n",
            "hyderabad\n",
            "bangalore\n"
          ]
        }
      ]
    }
  ]
}