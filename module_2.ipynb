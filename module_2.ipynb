{
  "nbformat": 4,
  "nbformat_minor": 0,
  "metadata": {
    "colab": {
      "name": "module 2.ipynb",
      "provenance": [],
      "collapsed_sections": [],
      "authorship_tag": "ABX9TyOS9iv4c3pnx7TGSKZ1eJZi",
      "include_colab_link": true
    },
    "kernelspec": {
      "name": "python3",
      "display_name": "Python 3"
    },
    "language_info": {
      "name": "python"
    }
  },
  "cells": [
    {
      "cell_type": "markdown",
      "metadata": {
        "id": "view-in-github",
        "colab_type": "text"
      },
      "source": [
        "<a href=\"https://colab.research.google.com/github/shrenikgit07/PythonNew/blob/Module2/module_2.ipynb\" target=\"_parent\"><img src=\"https://colab.research.google.com/assets/colab-badge.svg\" alt=\"Open In Colab\"/></a>"
      ]
    },
    {
      "cell_type": "code",
      "execution_count": null,
      "metadata": {
        "colab": {
          "base_uri": "https://localhost:8080/"
        },
        "id": "ol0bugYxJUf4",
        "outputId": "008f104e-3a0b-47d6-c88c-6c1fabf4f002"
      },
      "outputs": [
        {
          "name": "stdout",
          "output_type": "stream",
          "text": [
            "enter n:5\n",
            "enter r:2\n"
          ]
        },
        {
          "output_type": "execute_result",
          "data": {
            "text/plain": [
              "10.0"
            ]
          },
          "metadata": {},
          "execution_count": 1
        }
      ],
      "source": [
        "#nCr of two inputs using functions\n",
        "def nCr(n,r):\n",
        "  return (fact(n)/(fact(n-r)*fact(r)))\n",
        "\n",
        "def fact(n):\n",
        "  result=1\n",
        "  for i in range(1,n+1):\n",
        "      result=result*i\n",
        "  return result\n",
        "\n",
        "nCr(int(input(\"enter n:\")),int(input(\"enter r:\")))\n",
        "\n",
        "\n"
      ]
    },
    {
      "cell_type": "code",
      "source": [
        "#GCD of two numbers using recursion\n",
        "def gcd(a,b):\n",
        "  if (b==0):\n",
        "    return a\n",
        "  else:\n",
        "    return gcd(b,a%b)\n",
        "\n",
        "a=(int(input(\"enter first number:\")))\n",
        "b=(int(input(\"enter second number:\")))\n",
        "\n",
        "print(\"GCD is\",gcd(a,b))\n",
        "\n"
      ],
      "metadata": {
        "colab": {
          "base_uri": "https://localhost:8080/"
        },
        "id": "25-PX3xXR22u",
        "outputId": "73aa3819-086a-49ca-8fb8-4bb6d5e6d113"
      },
      "execution_count": null,
      "outputs": [
        {
          "output_type": "stream",
          "name": "stdout",
          "text": [
            "enter first number:16\n",
            "enter second number:8\n",
            "GCD is 8\n"
          ]
        }
      ]
    },
    {
      "cell_type": "code",
      "source": [
        "#product of two numbers using recursion\n",
        "def product(a,b):\n",
        "  if a>b:\n",
        "    return product(b,a)\n",
        "  elif b!=0:\n",
        "    return (a+product(a,b-1))\n",
        "  else:\n",
        "    return 0\n",
        "a=(int(input(\"enter first number:\")))\n",
        "b=(int(input(\"enter second number:\")))\n",
        "\n",
        "print(\"Product is\",product(a,b))\n",
        "\n"
      ],
      "metadata": {
        "colab": {
          "base_uri": "https://localhost:8080/"
        },
        "id": "kK25GrtJWGY7",
        "outputId": "917a1936-0277-4b75-bf05-4c40b7aca284"
      },
      "execution_count": null,
      "outputs": [
        {
          "output_type": "stream",
          "name": "stdout",
          "text": [
            "enter first number:5\n",
            "enter second number:6\n",
            "Product is 30\n"
          ]
        }
      ]
    },
    {
      "cell_type": "code",
      "source": [
        "#fibonnaci series using recursion\n",
        "def fibonnaci(n):\n",
        "   if (n<=1):\n",
        "     return n\n",
        "   else:\n",
        "     return(fibonnaci(n-1)+fibonnaci(n-2))\n",
        "n=int(input(\"enter number of terms:\"))\n",
        "print(\"fibonnaci series:\")\n",
        "for i in range(int(n)):\n",
        "    print(fibonnaci(i))\n",
        "    "
      ],
      "metadata": {
        "colab": {
          "base_uri": "https://localhost:8080/"
        },
        "id": "7Zl6uLpavn0A",
        "outputId": "63b90009-6681-4e40-8b3f-4441bb110067"
      },
      "execution_count": null,
      "outputs": [
        {
          "output_type": "stream",
          "name": "stdout",
          "text": [
            "enter number of terms:5\n",
            "fibonnaci series:\n",
            "0\n",
            "1\n",
            "1\n",
            "2\n",
            "3\n"
          ]
        }
      ]
    },
    {
      "cell_type": "code",
      "source": [
        "#to remove 0,4,5 elements in list\n",
        "color=[\"red\",\"green\",\"white\",\"black\",\"pink\",\"yellow\"]\n",
        "\n",
        "color.remove(\"red\")\n",
        "color.remove(\"pink\")\n",
        "color.remove(\"yellow\")\n",
        "print(color)\n"
      ],
      "metadata": {
        "colab": {
          "base_uri": "https://localhost:8080/"
        },
        "id": "gCZ-M6-H9Pt9",
        "outputId": "fd251eb3-64fc-4729-fffd-b1f514c07afb"
      },
      "execution_count": null,
      "outputs": [
        {
          "output_type": "stream",
          "name": "stdout",
          "text": [
            "['green', 'white', 'black']\n"
          ]
        }
      ]
    },
    {
      "cell_type": "code",
      "source": [
        "#difference between two lists\n",
        "n=int(input('no of elements in list:'))\n",
        "def diff(n):\n",
        "\n",
        "  a=[]\n",
        "  b=[]\n",
        "  for i in range(1,n+1):\n",
        "    j=int(input('enter number into the list a: '))\n",
        "    a.append(j)\n",
        "  for i in range(1,n+1):\n",
        "    k=int(input('enter number into the list b: '))\n",
        "    b.append(k)\n",
        "  z=len(b)\n",
        "  c=[]\n",
        "  for i in range(z):\n",
        "    x=(a[i]-b[i])\n",
        "    c.append(x)\n",
        "  print(c)\n",
        "diff(n) "
      ],
      "metadata": {
        "colab": {
          "base_uri": "https://localhost:8080/"
        },
        "id": "txFbZRlTFxUt",
        "outputId": "89bb88c0-4f87-4966-ad23-528f686b6b35"
      },
      "execution_count": null,
      "outputs": [
        {
          "output_type": "stream",
          "name": "stdout",
          "text": [
            "no of elements in list:1\n",
            "enter number into the list a: 2\n",
            "enter number into the list b: 3\n",
            "[-1]\n"
          ]
        }
      ]
    },
    {
      "cell_type": "code",
      "source": [
        "#count number of upper and lower case characters in a string\n",
        "char = input('string:')\n",
        "def count(char):\n",
        "    m = len(char)\n",
        "    n = 0\n",
        "    for i in char:\n",
        "        if i >= 'A' and i <= 'Z':\n",
        "            n = n + 1\n",
        "    z = m - n\n",
        "    print('there are', n, 'upper and', z, 'lower')\n",
        "count(char)"
      ],
      "metadata": {
        "colab": {
          "base_uri": "https://localhost:8080/"
        },
        "id": "kAKbwocyRik5",
        "outputId": "1fb02131-0e1a-4a94-ad8b-c1b57b45ba11"
      },
      "execution_count": null,
      "outputs": [
        {
          "output_type": "stream",
          "name": "stdout",
          "text": [
            "string:Shrenik\n",
            "there are 1 upper and 6 lower\n"
          ]
        }
      ]
    },
    {
      "cell_type": "code",
      "source": [
        "'''Program to count the number of strings where the string length is 2 or more and\n",
        "the first and last character are same from a given list of strings\n",
        "x Sample List : ['abc', 'xyz', 'aba', '1221'] Expected Result : 2'''\n",
        "\n",
        "s= ['abc', 'xyz', 'aba', '1221']\n",
        "def sample(s):\n",
        "  c=0\n",
        "  for i in s:\n",
        "    x=len(i)\n",
        "    if x>=2 and i[0]==i[-1]:\n",
        "      c=c+1\n",
        "  print(c)\n",
        "sample(s)"
      ],
      "metadata": {
        "colab": {
          "base_uri": "https://localhost:8080/"
        },
        "id": "FBPRrFwUUNbe",
        "outputId": "0edc6fd9-5ef6-4035-cf2b-ebf377eef6b3"
      },
      "execution_count": null,
      "outputs": [
        {
          "output_type": "stream",
          "name": "stdout",
          "text": [
            "2\n"
          ]
        }
      ]
    },
    {
      "cell_type": "code",
      "source": [
        " a=[2,4,6,8]\n",
        " b=[]\n",
        "\n",
        " def square(a,b):\n",
        "\n",
        "   for i in (a):\n",
        "\n",
        "    c=(i,i*i)\n",
        "    b.append(c)\n",
        "   print(b)\n",
        "square(a,b)\n"
      ],
      "metadata": {
        "colab": {
          "base_uri": "https://localhost:8080/"
        },
        "id": "5Fn6U2Y86O5A",
        "outputId": "53390631-659d-4eee-d20f-c9d913b5e8d9"
      },
      "execution_count": null,
      "outputs": [
        {
          "output_type": "stream",
          "name": "stdout",
          "text": [
            "[(2, 4), (4, 16), (6, 36), (8, 64)]\n"
          ]
        }
      ]
    },
    {
      "cell_type": "code",
      "source": [
        "#program to find second smallest and second largest number in a list\n",
        "n=int(input(\"enter the size of list:\"))\n",
        "l=[]\n",
        "def second(n,l):\n",
        "  for i in range(n):\n",
        "    c=int(input(\"enter elements in list:\"))\n",
        "    l.append(c)\n",
        "  l.sort()\n",
        "  print(\"sorted list:\",l)\n",
        "  second_max=l[-2]\n",
        "  second_min=l[1]\n",
        "  print(\"second maximum number is:\",second_max)\n",
        "  print(\"second minimum number is:\",second_min)\n",
        "second(n,l)"
      ],
      "metadata": {
        "colab": {
          "base_uri": "https://localhost:8080/"
        },
        "id": "d7RRXLJh5m32",
        "outputId": "614e5482-c17b-4057-a0fd-ac4bfb11ad8b"
      },
      "execution_count": null,
      "outputs": [
        {
          "output_type": "stream",
          "name": "stdout",
          "text": [
            "enter the size of list:5\n",
            "enter elements in list:1\n",
            "enter elements in list:4\n",
            "enter elements in list:7\n",
            "enter elements in list:2\n",
            "enter elements in list:69\n",
            "sorted list: [1, 2, 4, 7, 69]\n",
            "second maximum number is: 7\n",
            "second minimum number is: 2\n"
          ]
        }
      ]
    },
    {
      "cell_type": "code",
      "source": [
        "#palindrome using functions\n",
        "a=input(\"enter a string:\")\n",
        "b=a[::-1]\n",
        "def palindrome(a,b):\n",
        "  print(b)\n",
        "if a==b:\n",
        "  print(\"given string is palindrome\")\n",
        "else:\n",
        "    print(\"given string isnt a palindrome\")\n",
        "palindrome(a,b)"
      ],
      "metadata": {
        "colab": {
          "base_uri": "https://localhost:8080/"
        },
        "id": "syJs5Kuo9P9h",
        "outputId": "c29e01e7-be56-431c-bb05-e2d7a943b0e1"
      },
      "execution_count": null,
      "outputs": [
        {
          "output_type": "stream",
          "name": "stdout",
          "text": [
            "enter a string:malayalam\n",
            "given string is palindrome\n",
            "malayalam\n"
          ]
        }
      ]
    }
  ]
}